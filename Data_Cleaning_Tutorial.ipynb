{
  "nbformat": 4,
  "nbformat_minor": 0,
  "metadata": {
    "colab": {
      "provenance": [],
      "include_colab_link": true
    },
    "kernelspec": {
      "name": "python3",
      "display_name": "Python 3"
    },
    "language_info": {
      "name": "python"
    }
  },
  "cells": [
    {
      "cell_type": "markdown",
      "metadata": {
        "id": "view-in-github",
        "colab_type": "text"
      },
      "source": [
        "<a href=\"https://colab.research.google.com/github/ShahadFh/ShahadAlhmoud/blob/main/Data_Cleaning_Tutorial.ipynb\" target=\"_parent\"><img src=\"https://colab.research.google.com/assets/colab-badge.svg\" alt=\"Open In Colab\"/></a>"
      ]
    },
    {
      "cell_type": "code",
      "source": [
        "from google.colab import drive\n",
        "drive.mount('/content/drive')"
      ],
      "metadata": {
        "id": "v4-dNRJ7Axqh",
        "outputId": "bb9be273-a7c4-459c-db80-64e1d2ef180b",
        "colab": {
          "base_uri": "https://localhost:8080/"
        }
      },
      "execution_count": 7,
      "outputs": [
        {
          "output_type": "stream",
          "name": "stdout",
          "text": [
            "Mounted at /content/drive\n"
          ]
        }
      ]
    },
    {
      "cell_type": "markdown",
      "source": [
        "# Loading the dataset"
      ],
      "metadata": {
        "id": "BzrLQRRGTdu1"
      }
    },
    {
      "cell_type": "code",
      "source": [
        "df=pd.read_csv('/content/drive/MyDrive/T5bootcamp/Titanic-Dataset.csv')"
      ],
      "metadata": {
        "id": "bc3UPU7AKzKG"
      },
      "execution_count": 9,
      "outputs": []
    },
    {
      "cell_type": "code",
      "execution_count": null,
      "metadata": {
        "id": "K1F-oY4BI45P"
      },
      "outputs": [],
      "source": [
        "import pandas as pd\n",
        "import numpy as np"
      ]
    },
    {
      "cell_type": "markdown",
      "source": [
        "# Handling Null Values"
      ],
      "metadata": {
        "id": "0OFnt7E-Tkgb"
      }
    },
    {
      "cell_type": "code",
      "source": [
        "# Check for null values (1 line)\n",
        "print(df.isna().sum())"
      ],
      "metadata": {
        "id": "tCRLPInPK3ro",
        "outputId": "8ee4a64c-7aeb-4405-82a2-8d3306e0978b",
        "colab": {
          "base_uri": "https://localhost:8080/"
        }
      },
      "execution_count": 11,
      "outputs": [
        {
          "output_type": "stream",
          "name": "stdout",
          "text": [
            "PassengerId      0\n",
            "Survived         0\n",
            "Pclass           0\n",
            "Name             0\n",
            "Sex              0\n",
            "Age            177\n",
            "SibSp            0\n",
            "Parch            0\n",
            "Ticket           0\n",
            "Fare             0\n",
            "Cabin          687\n",
            "Embarked         2\n",
            "dtype: int64\n"
          ]
        }
      ]
    },
    {
      "cell_type": "code",
      "source": [
        "# Fill null values for 'Embarked' with the mode(1 line)\n",
        "df['Embarked'] =df['Embarked'].fillna(df['Embarked'].mode()[0])\n",
        "print(df.isna().sum())"
      ],
      "metadata": {
        "id": "3MkMLwc3CE8D",
        "outputId": "c85c8d1b-1dc1-4c86-cc69-d3bf75f1171f",
        "colab": {
          "base_uri": "https://localhost:8080/"
        }
      },
      "execution_count": 14,
      "outputs": [
        {
          "output_type": "stream",
          "name": "stdout",
          "text": [
            "PassengerId      0\n",
            "Survived         0\n",
            "Pclass           0\n",
            "Name             0\n",
            "Sex              0\n",
            "Age            177\n",
            "SibSp            0\n",
            "Parch            0\n",
            "Ticket           0\n",
            "Fare             0\n",
            "Cabin          687\n",
            "Embarked         0\n",
            "dtype: int64\n"
          ]
        }
      ]
    },
    {
      "cell_type": "code",
      "source": [
        "# Drop rows with null values in 'Cabin' (or alternatively, you can fill it with a placeholder) (1 line)\n",
        "df.dropna(subset = 'Cabin', inplace = True)\n",
        "print(df.isna().sum())"
      ],
      "metadata": {
        "id": "JwZ62GQZCkM7",
        "outputId": "d178fd16-f866-475c-ec46-f5e362af6beb",
        "colab": {
          "base_uri": "https://localhost:8080/"
        }
      },
      "execution_count": 16,
      "outputs": [
        {
          "output_type": "stream",
          "name": "stdout",
          "text": [
            "PassengerId     0\n",
            "Survived        0\n",
            "Pclass          0\n",
            "Name            0\n",
            "Sex             0\n",
            "Age            19\n",
            "SibSp           0\n",
            "Parch           0\n",
            "Ticket          0\n",
            "Fare            0\n",
            "Cabin           0\n",
            "Embarked        0\n",
            "dtype: int64\n"
          ]
        }
      ]
    },
    {
      "cell_type": "markdown",
      "source": [
        "# Handling Duplicates"
      ],
      "metadata": {
        "id": "ymFhv83FV80H"
      }
    },
    {
      "cell_type": "code",
      "source": [
        "# Check for duplicates (1 line)\n",
        "print(df.duplicated().sum())\n",
        "\n",
        "# Drop duplicates if any (1 line)\n",
        "df.drop_duplicates(inplace = True)\n",
        "print(df.duplicated().sum())"
      ],
      "metadata": {
        "colab": {
          "base_uri": "https://localhost:8080/"
        },
        "id": "HzmNbIDuLmEw",
        "outputId": "fbf20187-353c-4ba8-c4d2-7eff2d56e3ac"
      },
      "execution_count": 18,
      "outputs": [
        {
          "output_type": "stream",
          "name": "stdout",
          "text": [
            "0\n",
            "0\n"
          ]
        }
      ]
    },
    {
      "cell_type": "markdown",
      "source": [
        "# Handling Outliers"
      ],
      "metadata": {
        "id": "RkPW85MbV_8v"
      }
    },
    {
      "cell_type": "code",
      "source": [
        "import numpy as np\n",
        "\n",
        "# Function to remove outliers using the IQR method\n",
        "def remove_outliers(df, column):\n",
        "    Q1 = df[column].quantile(0.25)\n",
        "    Q3 = df[column].quantile(0.75)\n",
        "    IQR = Q3 - Q1\n",
        "    lower_bound = Q1 - 1.5 * IQR\n",
        "    upper_bound = Q3 + 1.5 * IQR\n",
        "    return df[(df[column] >= lower_bound) & (df[column] <= upper_bound)]\n",
        "\n",
        "# Remove outliers from 'Fare' using the remove_outilers function (1 line)\n",
        "df = remove_outliers(df, 'Fare')"
      ],
      "metadata": {
        "id": "NsffaZ2DL06B"
      },
      "execution_count": 34,
      "outputs": []
    },
    {
      "cell_type": "markdown",
      "source": [
        "# Scaling and Normalization"
      ],
      "metadata": {
        "id": "kOTEDjprUiwc"
      }
    },
    {
      "cell_type": "code",
      "source": [
        "from sklearn.preprocessing import StandardScaler, MinMaxScaler\n",
        "\n",
        "# Standard scaling for 'Fare' (2 lines)\n",
        "df ['Fare'] = (df['Fare'] - df['Fare'].mean()) / df['Fare'].std()\n",
        "\n",
        "# Min-Max scaling for 'Age' (2 lines)\n",
        "scaler = MinMaxScaler()\n",
        "df['Age'] = scaler.fit_transform(df[['Age']])\n",
        "print(df)"
      ],
      "metadata": {
        "id": "k3AaqNXcTaDR",
        "outputId": "630c3776-4036-4492-ae43-bf27180c0aa6",
        "colab": {
          "base_uri": "https://localhost:8080/"
        }
      },
      "execution_count": 32,
      "outputs": [
        {
          "output_type": "stream",
          "name": "stdout",
          "text": [
            "     PassengerId  Survived  Pclass  \\\n",
            "1              2         1       1   \n",
            "3              4         1       1   \n",
            "6              7         0       1   \n",
            "10            11         1       3   \n",
            "11            12         1       1   \n",
            "..           ...       ...     ...   \n",
            "871          872         1       1   \n",
            "872          873         0       1   \n",
            "879          880         1       1   \n",
            "887          888         1       1   \n",
            "889          890         1       1   \n",
            "\n",
            "                                                  Name     Sex       Age  \\\n",
            "1    Cumings, Mrs. John Bradley (Florence Briggs Th...  female  0.468892   \n",
            "3         Futrelle, Mrs. Jacques Heath (Lily May Peel)  female  0.430956   \n",
            "6                              McCarthy, Mr. Timothy J    male  0.671219   \n",
            "10                     Sandstrom, Miss. Marguerite Rut  female  0.038948   \n",
            "11                            Bonnell, Miss. Elizabeth  female  0.721801   \n",
            "..                                                 ...     ...       ...   \n",
            "871   Beckwith, Mrs. Richard Leonard (Sallie Monypeny)  female  0.582701   \n",
            "872                           Carlsson, Mr. Frans Olof    male  0.405665   \n",
            "879      Potter, Mrs. Thomas Jr (Lily Alexenia Wilson)  female  0.696510   \n",
            "887                       Graham, Miss. Margaret Edith  female  0.228629   \n",
            "889                              Behr, Mr. Karl Howell    male  0.317147   \n",
            "\n",
            "     SibSp  Parch    Ticket      Fare        Cabin Embarked  \n",
            "1        1      0  PC 17599  0.356861          C85        C  \n",
            "3        1      0    113803 -0.124089         C123        S  \n",
            "6        0      0     17463 -0.156821          E46        S  \n",
            "10       1      1   PP 9549 -1.086872           G6        S  \n",
            "11       0      0    113783 -0.826338         C103        S  \n",
            "..     ...    ...       ...       ...          ...      ...  \n",
            "871      1      1     11751 -0.138525          D35        S  \n",
            "872      0      0       695 -1.396337  B51 B53 B55        S  \n",
            "879      0      1     11767  0.670955          C50        C  \n",
            "887      0      0    112053 -0.735086          B42        S  \n",
            "889      0      0    111369 -0.735086         C148        C  \n",
            "\n",
            "[186 rows x 12 columns]\n"
          ]
        },
        {
          "output_type": "stream",
          "name": "stderr",
          "text": [
            "<ipython-input-32-8119a8c5d2b6>:4: SettingWithCopyWarning: \n",
            "A value is trying to be set on a copy of a slice from a DataFrame.\n",
            "Try using .loc[row_indexer,col_indexer] = value instead\n",
            "\n",
            "See the caveats in the documentation: https://pandas.pydata.org/pandas-docs/stable/user_guide/indexing.html#returning-a-view-versus-a-copy\n",
            "  df ['Fare'] = (df['Fare'] - df['Fare'].mean()) / df['Fare'].std()\n",
            "<ipython-input-32-8119a8c5d2b6>:8: SettingWithCopyWarning: \n",
            "A value is trying to be set on a copy of a slice from a DataFrame.\n",
            "Try using .loc[row_indexer,col_indexer] = value instead\n",
            "\n",
            "See the caveats in the documentation: https://pandas.pydata.org/pandas-docs/stable/user_guide/indexing.html#returning-a-view-versus-a-copy\n",
            "  df['Age'] = scaler.fit_transform(df[['Age']])\n"
          ]
        }
      ]
    },
    {
      "cell_type": "markdown",
      "source": [
        "# Encoding Categorical Variables"
      ],
      "metadata": {
        "id": "ETtUvmP3Uz1p"
      }
    },
    {
      "cell_type": "code",
      "source": [
        "# One-hot encoding for 'Embarked' and 'Sex' (1 line)\n",
        "df = pd.get_dummies(df, columns=['Embarked', 'Sex'])\n",
        "print(df)"
      ],
      "metadata": {
        "id": "OxjK9FbhU4oq",
        "outputId": "e49a3614-26ef-4c8e-bdfc-0de14d733363",
        "colab": {
          "base_uri": "https://localhost:8080/"
        }
      },
      "execution_count": 33,
      "outputs": [
        {
          "output_type": "stream",
          "name": "stdout",
          "text": [
            "     PassengerId  Survived  Pclass  \\\n",
            "1              2         1       1   \n",
            "3              4         1       1   \n",
            "6              7         0       1   \n",
            "10            11         1       3   \n",
            "11            12         1       1   \n",
            "..           ...       ...     ...   \n",
            "871          872         1       1   \n",
            "872          873         0       1   \n",
            "879          880         1       1   \n",
            "887          888         1       1   \n",
            "889          890         1       1   \n",
            "\n",
            "                                                  Name       Age  SibSp  \\\n",
            "1    Cumings, Mrs. John Bradley (Florence Briggs Th...  0.468892      1   \n",
            "3         Futrelle, Mrs. Jacques Heath (Lily May Peel)  0.430956      1   \n",
            "6                              McCarthy, Mr. Timothy J  0.671219      0   \n",
            "10                     Sandstrom, Miss. Marguerite Rut  0.038948      1   \n",
            "11                            Bonnell, Miss. Elizabeth  0.721801      0   \n",
            "..                                                 ...       ...    ...   \n",
            "871   Beckwith, Mrs. Richard Leonard (Sallie Monypeny)  0.582701      1   \n",
            "872                           Carlsson, Mr. Frans Olof  0.405665      0   \n",
            "879      Potter, Mrs. Thomas Jr (Lily Alexenia Wilson)  0.696510      0   \n",
            "887                       Graham, Miss. Margaret Edith  0.228629      0   \n",
            "889                              Behr, Mr. Karl Howell  0.317147      0   \n",
            "\n",
            "     Parch    Ticket      Fare        Cabin  Embarked_C  Embarked_Q  \\\n",
            "1        0  PC 17599  0.356861          C85        True       False   \n",
            "3        0    113803 -0.124089         C123       False       False   \n",
            "6        0     17463 -0.156821          E46       False       False   \n",
            "10       1   PP 9549 -1.086872           G6       False       False   \n",
            "11       0    113783 -0.826338         C103       False       False   \n",
            "..     ...       ...       ...          ...         ...         ...   \n",
            "871      1     11751 -0.138525          D35       False       False   \n",
            "872      0       695 -1.396337  B51 B53 B55       False       False   \n",
            "879      1     11767  0.670955          C50        True       False   \n",
            "887      0    112053 -0.735086          B42       False       False   \n",
            "889      0    111369 -0.735086         C148        True       False   \n",
            "\n",
            "     Embarked_S  Sex_female  Sex_male  \n",
            "1         False        True     False  \n",
            "3          True        True     False  \n",
            "6          True       False      True  \n",
            "10         True        True     False  \n",
            "11         True        True     False  \n",
            "..          ...         ...       ...  \n",
            "871        True        True     False  \n",
            "872        True       False      True  \n",
            "879       False        True     False  \n",
            "887        True        True     False  \n",
            "889       False       False      True  \n",
            "\n",
            "[186 rows x 15 columns]\n"
          ]
        }
      ]
    }
  ]
}